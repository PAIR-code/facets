{
 "cells": [
  {
   "cell_type": "code",
   "execution_count": 5,
   "metadata": {},
   "outputs": [
    {
     "data": {
      "text/html": [
       "<table>\n",
       "<thead>\n",
       "<tr><th>#                             </th><th>Unnamed: 0  </th><th>A                  </th><th>B                  </th><th>C                  </th><th>D                  </th></tr>\n",
       "</thead>\n",
       "<tbody>\n",
       "<tr><td><i style='opacity: 0.6'>0</i> </td><td>RKKJ4iV0mc  </td><td>-1.678956391558604 </td><td>-0.2388790445093592</td><td>1.1055515208624067 </td><td>0.9397256114058312 </td></tr>\n",
       "<tr><td><i style='opacity: 0.6'>1</i> </td><td>64R71Tc6GH  </td><td>-1.0613047340422994</td><td>0.0012908630027789 </td><td>0.7597418636728487 </td><td>-1.3354472500844283</td></tr>\n",
       "<tr><td><i style='opacity: 0.6'>2</i> </td><td>y0XbFIBeYQ  </td><td>-0.52860517089301  </td><td>-1.5631492451216775</td><td>0.7313482419249768 </td><td>1.2812339151048822 </td></tr>\n",
       "<tr><td><i style='opacity: 0.6'>3</i> </td><td>So3KGoCNAQ  </td><td>-0.8838850384514394</td><td>0.8719733291672772 </td><td>-0.0509251167295204</td><td>0.0539034128672671 </td></tr>\n",
       "<tr><td><i style='opacity: 0.6'>4</i> </td><td>izkdOcbuaS  </td><td>0.0749033580995846 </td><td>0.6177090150056431 </td><td>-0.3673956758004302</td><td>1.2586992706145634 </td></tr>\n",
       "<tr><td>...                           </td><td>...         </td><td>...                </td><td>...                </td><td>...                </td><td>...                </td></tr>\n",
       "<tr><td><i style='opacity: 0.6'>25</i></td><td>oIrhXhmANk  </td><td>0.3383776747285827 </td><td>-0.8376922103228934</td><td>1.4450365118973951 </td><td>0.0264008002984321 </td></tr>\n",
       "<tr><td><i style='opacity: 0.6'>26</i></td><td>Kglh1F05gs  </td><td>-0.6317361020640085</td><td>-1.5202307662996857</td><td>1.4112140712473706 </td><td>-0.0628700909456976</td></tr>\n",
       "<tr><td><i style='opacity: 0.6'>27</i></td><td>4XICHPjeXg  </td><td>-1.5979936778741917</td><td>0.2818413305536353 </td><td>-0.1776103251863211</td><td>-1.3838726191119473</td></tr>\n",
       "<tr><td><i style='opacity: 0.6'>28</i></td><td>pfUSiWhz3m  </td><td>0.2053849849266507 </td><td>-1.0447514966816651</td><td>1.630160479565647  </td><td>0.5472991792256756 </td></tr>\n",
       "<tr><td><i style='opacity: 0.6'>29</i></td><td>iEJqlCilEL  </td><td>2.803690273845482  </td><td>-0.9161111154652524</td><td>1.3492743243687446 </td><td>0.5969124424029476 </td></tr>\n",
       "</tbody>\n",
       "</table>"
      ],
      "text/plain": [
       "#    Unnamed: 0    A                    B                    C                    D\n",
       "0    RKKJ4iV0mc    -1.678956391558604   -0.2388790445093592  1.1055515208624067   0.9397256114058312\n",
       "1    64R71Tc6GH    -1.0613047340422994  0.0012908630027789   0.7597418636728487   -1.3354472500844283\n",
       "2    y0XbFIBeYQ    -0.52860517089301    -1.5631492451216775  0.7313482419249768   1.2812339151048822\n",
       "3    So3KGoCNAQ    -0.8838850384514394  0.8719733291672772   -0.0509251167295204  0.0539034128672671\n",
       "4    izkdOcbuaS    0.0749033580995846   0.6177090150056431   -0.3673956758004302  1.2586992706145634\n",
       "...  ...           ...                  ...                  ...                  ...\n",
       "25   oIrhXhmANk    0.3383776747285827   -0.8376922103228934  1.4450365118973951   0.0264008002984321\n",
       "26   Kglh1F05gs    -0.6317361020640085  -1.5202307662996857  1.4112140712473706   -0.0628700909456976\n",
       "27   4XICHPjeXg    -1.5979936778741917  0.2818413305536353   -0.1776103251863211  -1.3838726191119473\n",
       "28   pfUSiWhz3m    0.2053849849266507   -1.0447514966816651  1.630160479565647    0.5472991792256756\n",
       "29   iEJqlCilEL    2.803690273845482    -0.9161111154652524  1.3492743243687446   0.5969124424029476"
      ]
     },
     "execution_count": 5,
     "metadata": {},
     "output_type": "execute_result"
    }
   ],
   "source": [
    "import vaex\n",
    "# Load feather file\n",
    "dataset = vaex.open(\"small_file.feather\")\n",
    "#df = vaex.from_dataset(dataset)\n",
    "dataset"
   ]
  },
  {
   "cell_type": "code",
   "execution_count": 6,
   "metadata": {},
   "outputs": [
    {
     "data": {
      "text/plain": [
       "vaex.dataframe.DataFrameLocal"
      ]
     },
     "execution_count": 6,
     "metadata": {},
     "output_type": "execute_result"
    }
   ],
   "source": [
    "type(dataset)"
   ]
  },
  {
   "cell_type": "code",
   "execution_count": 31,
   "metadata": {},
   "outputs": [],
   "source": [
    "def csv_to_feather_function(input_file):\n",
    "    import filepattern\n",
    "    import argparse, logging\n",
    "    import numpy as np\n",
    "    import typing, os\n",
    "    from pathlib import Path\n",
    "    import vaex\n",
    "    \n",
    "    # Import environment variables\n",
    "    POLUS_LOG = getattr(logging,os.environ.get('POLUS_LOG','INFO'))\n",
    "\n",
    "    # Initialize the logger\n",
    "    logging.basicConfig(format='%(asctime)s - %(name)-8s - %(levelname)-8s - %(message)s',\n",
    "                        datefmt='%d-%b-%y %H:%M:%S')\n",
    "    logger = logging.getLogger(\"main\")\n",
    "    logger.setLevel(POLUS_LOG)\n",
    "\n",
    "    def csv2parquet(input_path: Path,\n",
    "                    output_path: Path\n",
    "                    ) -> np.ndarray:\n",
    "        \"\"\"Convert a csv file to Apache feather file\n",
    "        \"\"\"\n",
    "        print(\"input_path: \", input_path)\n",
    "        # Get the number of columns in the csv\n",
    "        with open(input_path,'r') as fr:\n",
    "            ncols = len(fr.readline().split(','))\n",
    "\n",
    "        # Set the chunk size to get roughly 16MB at a time, or at least 1 row\n",
    "        chunk_size = max([2**24 // ncols,1])\n",
    "\n",
    "        # Load the file and convert to hdf5 to make reading scalable\n",
    "        logger.info('reading file...')\n",
    "        csv = vaex.from_csv(input_path,convert=True,chunk_size=chunk_size)\n",
    "\n",
    "        # Write to parquet file\n",
    "        logger.info('writing file...')\n",
    "        csv.export_feather(output_path)\n",
    "        csv.close()\n",
    "\n",
    "        # Remove intermediate files\n",
    "        logger.info('removing intermediates...')\n",
    "        os.unlink(input_path.with_suffix('.csv.yaml'))\n",
    "        os.unlink(input_path.with_suffix('.csv.hdf5'))\n",
    "        logger.info('done.')\n",
    "\n",
    "    def main(input_file,\n",
    "             outDir: Path,\n",
    "             ) -> None:\n",
    "        \"\"\" Main execution function\n",
    "\n",
    "        All functions in your code must have docstrings attached to them, and the\n",
    "        docstrings must follow the Google Python Style:\n",
    "        https://www.sphinx-doc.org/en/master/usage/extensions/example_google.html\n",
    "        \"\"\"\n",
    "\n",
    "        input_file = Path(input_file)\n",
    "        print(\"input_file before: \", input_file)\n",
    "        print(\"type: \", type(input_file))\n",
    "        output_file = Path(outDir).joinpath(input_file.name.replace('.csv','.feather'))\n",
    "\n",
    "        logger.info(f'Converting file: {input_file.name}')\n",
    "        print(\"after: input_file: \", input_file)\n",
    "        csv2parquet(input_file, output_file)\n",
    "\n",
    "    if __name__==\"__main__\":\n",
    "\n",
    "        ''' Argument parsing '''\n",
    "        logger.info(\"Parsing arguments...\")\n",
    "        parser = argparse.ArgumentParser(prog='main', description='Convert data from csv to feather.')\n",
    "\n",
    "\n",
    "        #: Input csv collection to be processed by this plugin\n",
    "        logger.info('input_file = {}'.format(input_file))\n",
    "        #: Output collection\n",
    "        outDir = \"\"\n",
    "\n",
    "        main(input_file, outDir)"
   ]
  },
  {
   "cell_type": "code",
   "execution_count": 32,
   "metadata": {},
   "outputs": [
    {
     "name": "stderr",
     "output_type": "stream",
     "text": [
      "05-Aug-21 04:42:00 - main - INFO - Parsing arguments...\n",
      "05-Aug-21 04:42:00 - main - INFO - input_file = small_file1.csv\n",
      "05-Aug-21 04:42:00 - main - INFO - Converting file: small_file1.csv\n",
      "05-Aug-21 04:42:00 - main - INFO - reading file...\n",
      "05-Aug-21 04:42:00 - main - INFO - writing file...\n",
      "05-Aug-21 04:42:00 - main - INFO - removing intermediates...\n",
      "05-Aug-21 04:42:00 - main - INFO - done.\n"
     ]
    },
    {
     "name": "stdout",
     "output_type": "stream",
     "text": [
      "input_file before:  small_file1.csv\n",
      "type:  <class 'pathlib.PosixPath'>\n",
      "after: input_file:  small_file1.csv\n",
      "input_path:  small_file1.csv\n"
     ]
    }
   ],
   "source": [
    "from pathlib import Path\n",
    "#: This function takes in a csv a adds a feather file\n",
    "csv_to_feather_function(Path(\"small_file1.csv\"))"
   ]
  },
  {
   "cell_type": "code",
   "execution_count": null,
   "metadata": {},
   "outputs": [],
   "source": [
    "# Load UCI census train and test data into dataframes.\n",
    "import pandas as pd\n",
    "features = [\"Age\", \"Workclass\", \"fnlwgt\", \"Education\", \"Education-Num\", \"Marital Status\",\n",
    "            \"Occupation\", \"Relationship\", \"Race\", \"Sex\", \"Capital Gain\", \"Capital Loss\",\n",
    "            \"Hours per week\", \"Country\", \"Target\"]\n",
    "train_data = pd.read_csv(\n",
    "    \"https://archive.ics.uci.edu/ml/machine-learning-databases/adult/adult.data\",\n",
    "    names=features,\n",
    "    sep=r'\\s*,\\s*',\n",
    "    engine='python',\n",
    "    na_values=\"?\")\n",
    "test_data = pd.read_csv(\n",
    "    \"https://archive.ics.uci.edu/ml/machine-learning-databases/adult/adult.test\",\n",
    "    names=features,\n",
    "    sep=r'\\s*,\\s*',\n",
    "    skiprows=[0],\n",
    "    engine='python',\n",
    "    na_values=\"?\")"
   ]
  },
  {
   "cell_type": "code",
   "execution_count": null,
   "metadata": {},
   "outputs": [],
   "source": [
    "# Calculate the feature statistics proto from the datasets and stringify it for use in facets overview.\n",
    "\n",
    "# This code assumes that the facets-overview package has been installed through pip,\n",
    "# along with a tensorflow (or tensorflow-gpu) package.\n",
    "from facets_overview.generic_feature_statistics_generator import GenericFeatureStatisticsGenerator\n",
    "import base64\n",
    "\n",
    "gfsg = GenericFeatureStatisticsGenerator()\n",
    "proto = gfsg.ProtoFromDataFrames([{'name': 'train', 'table': train_data},\n",
    "                                  {'name': 'test', 'table': test_data}])\n",
    "protostr = base64.b64encode(proto.SerializeToString()).decode(\"utf-8\")"
   ]
  },
  {
   "cell_type": "code",
   "execution_count": null,
   "metadata": {
    "scrolled": false
   },
   "outputs": [],
   "source": [
    "# Display the facets overview visualization for this data\n",
    "from IPython.core.display import display, HTML\n",
    "\n",
    "HTML_TEMPLATE = \"\"\"\n",
    "        <script src=\"https://cdnjs.cloudflare.com/ajax/libs/webcomponentsjs/1.3.3/webcomponents-lite.js\"></script>\n",
    "        <link rel=\"import\" href=\"https://raw.githubusercontent.com/PAIR-code/facets/1.0.0/facets-dist/facets-jupyter.html\" >\n",
    "        <facets-overview id=\"elem\"></facets-overview>\n",
    "        <script>\n",
    "          document.querySelector(\"#elem\").protoInput = \"{protostr}\";\n",
    "        </script>\"\"\"\n",
    "html = HTML_TEMPLATE.format(protostr=protostr)\n",
    "display(HTML(html))"
   ]
  }
 ],
 "metadata": {
  "kernelspec": {
   "display_name": "Python 2",
   "language": "python",
   "name": "python2"
  },
  "language_info": {
   "codemirror_mode": {
    "name": "ipython",
    "version": 3
   },
   "file_extension": ".py",
   "mimetype": "text/x-python",
   "name": "python",
   "nbconvert_exporter": "python",
   "pygments_lexer": "ipython3",
   "version": "3.7.9"
  }
 },
 "nbformat": 4,
 "nbformat_minor": 2
}
